{
  "nbformat": 4,
  "nbformat_minor": 0,
  "metadata": {
    "colab": {
      "provenance": [],
      "authorship_tag": "ABX9TyNNqzNR35FFLXbhkXvpN1/T",
      "include_colab_link": true
    },
    "kernelspec": {
      "name": "python3",
      "display_name": "Python 3"
    },
    "language_info": {
      "name": "python"
    }
  },
  "cells": [
    {
      "cell_type": "markdown",
      "metadata": {
        "id": "view-in-github",
        "colab_type": "text"
      },
      "source": [
        "<a href=\"https://colab.research.google.com/github/btc1999/btc1999/blob/main/Code2.ipynb\" target=\"_parent\"><img src=\"https://colab.research.google.com/assets/colab-badge.svg\" alt=\"Open In Colab\"/></a>"
      ]
    },
    {
      "cell_type": "code",
      "execution_count": null,
      "metadata": {
        "colab": {
          "base_uri": "https://localhost:8080/"
        },
        "id": "T2R69i3_uO_q",
        "outputId": "4334c780-12c0-410b-c83f-833baf6cdf0e"
      },
      "outputs": [
        {
          "output_type": "stream",
          "name": "stdout",
          "text": [
            "lets start a new business portfolio \n"
          ]
        }
      ],
      "source": [
        "print(\"lets start a new business portfolio \")"
      ]
    },
    {
      "cell_type": "code",
      "source": [
        "print(\"called SurfZen H&S\")"
      ],
      "metadata": {
        "colab": {
          "base_uri": "https://localhost:8080/"
        },
        "id": "vBHtnoyXubim",
        "outputId": "d23e20ee-7117-4862-ba08-529a99e004ac"
      },
      "execution_count": null,
      "outputs": [
        {
          "output_type": "stream",
          "name": "stdout",
          "text": [
            "called SurfZen H&S\n"
          ]
        }
      ]
    },
    {
      "cell_type": "code",
      "source": [
        "print(\"SurfZen H&S proposal\")"
      ],
      "metadata": {
        "colab": {
          "base_uri": "https://localhost:8080/"
        },
        "id": "M78MYi8dvxNY",
        "outputId": "4fa403c3-1b53-4c83-be6a-67908a773a1c"
      },
      "execution_count": null,
      "outputs": [
        {
          "output_type": "stream",
          "name": "stdout",
          "text": [
            "SurfZen H&S proposal\n"
          ]
        }
      ]
    },
    {
      "cell_type": "markdown",
      "source": [],
      "metadata": {
        "id": "pxkNxsZgxFyz"
      }
    },
    {
      "cell_type": "code",
      "source": [
        "print(\"-SURFZEN HEALTH SOLUTIONS\")"
      ],
      "metadata": {
        "colab": {
          "base_uri": "https://localhost:8080/"
        },
        "id": "yW7UrCbHxTYK",
        "outputId": "4dadb83a-be30-477d-b6bf-2a67d3e1b3e6"
      },
      "execution_count": null,
      "outputs": [
        {
          "output_type": "stream",
          "name": "stdout",
          "text": [
            "-SURFZEN HEALTH SOLUTIONS\n"
          ]
        }
      ]
    },
    {
      "cell_type": "markdown",
      "source": [
        "-SURFZEN HEALTH SOLUTIONS\n",
        "\n",
        "-SURFENHEALTHSOLUTIONSLLC is a way of connecting ones self with their love for a clean way of living healthy lifestyle and a lifetime of love and happiness.\n",
        "-SURFEN HEALTHSOLUTIONSLLC is a business owned under a trust and the main trustee is RYLAN KRISTOPHER JACKSON.\n",
        "-SURFZENHEALTHSOLUTIONLLC will allow the fellow person too withhold ideas of with they created for business objectives, I the trustee RYLAN KRISTOPHER JACKSON shall review thee ideas of each fellow applicent for future signing of 60% - 40% contract with SURFZENHEALTHSOLUTIONSLLC.\n",
        " \n",
        " -SurfZen Health Solutions is a company dedicated to helping individuals achieve their optimal health and wellness in every aspect of their lives. Our team of experts is passionate about providing top-notch mental health care, digestive health solutions, lifestyle coaching, investment tricks, and portfolio training to help our clients achieve their goals and live their best lives.\n",
        "\n",
        "We believe that true health and wellness encompass every aspect of life, and we strive to provide comprehensive and personalized solutions to meet each client's unique needs. Our team is committed to staying up-to-date with the latest research and developments in health and wellness, ensuring that our clients receive the best possible care and guidance.\n",
        "\n",
        "At SurfZen Health Solutions, we believe that everyone deserves to live a healthy and fulfilling life. Whether you're struggling with mental health issues, digestive problems, or simply need help achieving your lifestyle or investment goals, we're here to help. Contact us today to learn more about our services and how we can help you achieve your best self.\n"
      ],
      "metadata": {
        "id": "Nls1cKkoyWZk"
      }
    }
  ]
}